{
 "cells": [
  {
   "cell_type": "markdown",
   "metadata": {},
   "source": [
    "Run this with the command \"jupyter notebook\", and not from your IDE. The compatibility of the current solver with IDEs is limited for now.\n",
    "\n",
    "If you need to check the fvmModule capabilities, run help(fvmModule) for more information."
   ]
  },
  {
   "cell_type": "code",
   "execution_count": null,
   "metadata": {},
   "outputs": [
    {
     "name": "stdout",
     "output_type": "stream",
     "text": [
      "/home/flaviomartins/ownCloud/Research/openONDA/examples/eulerian_module_examples\n"
     ]
    }
   ],
   "source": [
    "import numpy \n",
    "import os\n",
    "print( os.getcwd() )"
   ]
  },
  {
   "cell_type": "markdown",
   "metadata": {},
   "source": [
    "Let us first load all libraries we will be needing in this example case"
   ]
  },
  {
   "cell_type": "code",
   "execution_count": 2,
   "metadata": {},
   "outputs": [
    {
     "ename": "ImportError",
     "evalue": "libfiniteVolume.so: cannot open shared object file: No such file or directory",
     "output_type": "error",
     "traceback": [
      "\u001b[0;31m---------------------------------------------------------------------------\u001b[0m",
      "\u001b[0;31mImportError\u001b[0m                               Traceback (most recent call last)",
      "Cell \u001b[0;32mIn[2], line 1\u001b[0m\n\u001b[0;32m----> 1\u001b[0m \u001b[38;5;28;01mfrom\u001b[39;00m\u001b[38;5;250m \u001b[39m\u001b[38;5;21;01mopenONDA\u001b[39;00m\u001b[38;5;21;01m.\u001b[39;00m\u001b[38;5;21;01msolvers\u001b[39;00m\u001b[38;5;21;01m.\u001b[39;00m\u001b[38;5;21;01mFVM\u001b[39;00m\u001b[38;5;250m \u001b[39m\u001b[38;5;28;01mimport\u001b[39;00m fvmModule \u001b[38;5;28;01mas\u001b[39;00m fvm\n\u001b[1;32m      3\u001b[0m \u001b[38;5;28;01mfrom\u001b[39;00m\u001b[38;5;250m \u001b[39m\u001b[38;5;21;01mopenONDA\u001b[39;00m\u001b[38;5;21;01m.\u001b[39;00m\u001b[38;5;21;01mutilities\u001b[39;00m\u001b[38;5;250m \u001b[39m\u001b[38;5;28;01mimport\u001b[39;00m (\n\u001b[1;32m      4\u001b[0m     set_initial_condition,\n\u001b[1;32m      5\u001b[0m     set_eulerian_module,\n\u001b[1;32m      6\u001b[0m     set_boundary_conditions,\n\u001b[1;32m      7\u001b[0m     vortex_filament_model\n\u001b[1;32m      8\u001b[0m )\n\u001b[1;32m     10\u001b[0m help(fvm)  \u001b[38;5;66;03m# Should display the module docstring. Press \"q\" in your terminal to continue\u001b[39;00m\n",
      "File \u001b[0;32m~/ownCloud/Research/openONDA/openONDA/__init__.py:4\u001b[0m\n\u001b[1;32m      1\u001b[0m \u001b[38;5;66;03m# openONDA/__init__.py\u001b[39;00m\n\u001b[1;32m      2\u001b[0m \n\u001b[1;32m      3\u001b[0m \u001b[38;5;66;03m# Import key modules or functions\u001b[39;00m\n\u001b[0;32m----> 4\u001b[0m \u001b[38;5;28;01mfrom\u001b[39;00m\u001b[38;5;250m \u001b[39m\u001b[38;5;21;01m.\u001b[39;00m\u001b[38;5;21;01msolvers\u001b[39;00m\u001b[38;5;21;01m.\u001b[39;00m\u001b[38;5;21;01mFVM\u001b[39;00m\u001b[38;5;250m \u001b[39m\u001b[38;5;28;01mimport\u001b[39;00m fvmModule\n\u001b[1;32m      6\u001b[0m \u001b[38;5;28;01mfrom\u001b[39;00m\u001b[38;5;250m \u001b[39m\u001b[38;5;21;01m.\u001b[39;00m\u001b[38;5;21;01msolvers\u001b[39;00m\u001b[38;5;21;01m.\u001b[39;00m\u001b[38;5;21;01mVPM\u001b[39;00m\u001b[38;5;250m \u001b[39m\u001b[38;5;28;01mimport\u001b[39;00m vpmModule\n\u001b[1;32m      8\u001b[0m \u001b[38;5;28;01mfrom\u001b[39;00m\u001b[38;5;250m \u001b[39m\u001b[38;5;21;01m.\u001b[39;00m\u001b[38;5;21;01mutilities\u001b[39;00m\u001b[38;5;250m \u001b[39m\u001b[38;5;28;01mimport\u001b[39;00m (\n\u001b[1;32m      9\u001b[0m     vortex_filament_model, vortex_ring_model, inflating_dipole_model, doublet_flow_model,\n\u001b[1;32m     10\u001b[0m     set_initial_condition, set_eulerian_module, set_boundary_conditions,\n\u001b[0;32m   (...)\u001b[0m\n\u001b[1;32m     14\u001b[0m     get_cylindrical_point_distribuition\n\u001b[1;32m     15\u001b[0m )\n",
      "File \u001b[0;32m~/ownCloud/Research/openONDA/openONDA/solvers/__init__.py:4\u001b[0m\n\u001b[1;32m      1\u001b[0m \u001b[38;5;66;03m# openONDA/solvers/__init__.py\u001b[39;00m\n\u001b[1;32m      2\u001b[0m \n\u001b[1;32m      3\u001b[0m \u001b[38;5;66;03m# Just initialize the submodules, no imports here to avoid circular dependencies\u001b[39;00m\n\u001b[0;32m----> 4\u001b[0m \u001b[38;5;28;01mfrom\u001b[39;00m\u001b[38;5;250m \u001b[39m\u001b[38;5;21;01m.\u001b[39;00m\u001b[38;5;21;01mFVM\u001b[39;00m\u001b[38;5;250m \u001b[39m\u001b[38;5;28;01mimport\u001b[39;00m fvmModule\n\u001b[1;32m      5\u001b[0m \u001b[38;5;28;01mfrom\u001b[39;00m\u001b[38;5;250m \u001b[39m\u001b[38;5;21;01m.\u001b[39;00m\u001b[38;5;21;01mVPM\u001b[39;00m\u001b[38;5;250m \u001b[39m\u001b[38;5;28;01mimport\u001b[39;00m vpmModule\n\u001b[1;32m      7\u001b[0m \u001b[38;5;66;03m# Expose the modules for easy access\u001b[39;00m\n",
      "File \u001b[0;32m~/ownCloud/Research/openONDA/openONDA/solvers/FVM/__init__.py:4\u001b[0m\n\u001b[1;32m      1\u001b[0m \u001b[38;5;66;03m# openONDA/solvers/FVM/__init__.py\u001b[39;00m\n\u001b[1;32m      2\u001b[0m \n\u001b[1;32m      3\u001b[0m \u001b[38;5;66;03m# Directly expose fvmModule for import\u001b[39;00m\n\u001b[0;32m----> 4\u001b[0m \u001b[38;5;28;01mfrom\u001b[39;00m\u001b[38;5;250m \u001b[39m\u001b[38;5;21;01m.\u001b[39;00m\u001b[38;5;250m \u001b[39m\u001b[38;5;28;01mimport\u001b[39;00m fvmModule\n\u001b[1;32m      6\u001b[0m \u001b[38;5;66;03m# Expose the module name for easy access\u001b[39;00m\n\u001b[1;32m      7\u001b[0m __all__ \u001b[38;5;241m=\u001b[39m [\u001b[38;5;124m\"\u001b[39m\u001b[38;5;124mfvmModule\u001b[39m\u001b[38;5;124m\"\u001b[39m]\n",
      "\u001b[0;31mImportError\u001b[0m: libfiniteVolume.so: cannot open shared object file: No such file or directory"
     ]
    }
   ],
   "source": [
    "from openONDA.solvers.FVM import fvmModule as fvm\n",
    "\n",
    "from openONDA.utilities import (\n",
    "    set_initial_condition,\n",
    "    set_eulerian_module,\n",
    "    set_boundary_conditions,\n",
    "    vortex_filament_model\n",
    ")\n",
    "\n",
    "help(fvm)  # Should display the module docstring. Press \"q\" in your terminal to continue"
   ]
  },
  {
   "cell_type": "markdown",
   "metadata": {},
   "source": [
    "Let us first define some basic inputs:"
   ]
  },
  {
   "cell_type": "code",
   "execution_count": 3,
   "metadata": {},
   "outputs": [
    {
     "name": "stdout",
     "output_type": "stream",
     "text": [
      "Cleaning case /home/flaviomartins/ownCloud/Research/openONDA/examples/eulerian_module_examples/E0_communication_test\n",
      "\n",
      "rm: cannot remove 'log.*': No such file or directory\n",
      "rm: cannot remove '0': No such file or directory\n",
      "rm: cannot remove 'simulation_inputs*': No such file or directory\n",
      "\n"
     ]
    }
   ],
   "source": [
    "# Get current working directory:\n",
    "current_dir = os.getcwd()\n",
    "      \n",
    "# Get the directory where the OpenFOAM solution is:\n",
    "OF_case_dir = os.path.join(current_dir, \"E0_communication_test\")\n",
    "\n",
    "# Call the script that prepared the OpenFOAM simulation:\n",
    "set_eulerian_module(current_dir, OF_case_dir)"
   ]
  },
  {
   "cell_type": "markdown",
   "metadata": {},
   "source": [
    "Here, we define our Eulerian solver:"
   ]
  },
  {
   "cell_type": "code",
   "execution_count": 4,
   "metadata": {},
   "outputs": [
    {
     "ename": "AttributeError",
     "evalue": "module 'openONDA.solvers.FVM.fvmModule' has no attribute 'FoamSolver'",
     "output_type": "error",
     "traceback": [
      "\u001b[0;31m---------------------------------------------------------------------------\u001b[0m",
      "\u001b[0;31mAttributeError\u001b[0m                            Traceback (most recent call last)",
      "Cell \u001b[0;32mIn[4], line 1\u001b[0m\n\u001b[0;32m----> 1\u001b[0m solver \u001b[38;5;241m=\u001b[39m \u001b[43mfvm\u001b[49m\u001b[38;5;241;43m.\u001b[39;49m\u001b[43mFoamSolver\u001b[49m([\u001b[38;5;124m\"\u001b[39m\u001b[38;5;124mpimpleStepperFoam\u001b[39m\u001b[38;5;124m\"\u001b[39m,\u001b[38;5;124m\"\u001b[39m\u001b[38;5;124m-case\u001b[39m\u001b[38;5;124m\"\u001b[39m, \u001b[38;5;124m\"\u001b[39m\u001b[38;5;132;01m{}\u001b[39;00m\u001b[38;5;124m\"\u001b[39m\u001b[38;5;241m.\u001b[39mformat(OF_case_dir)])\n",
      "\u001b[0;31mAttributeError\u001b[0m: module 'openONDA.solvers.FVM.fvmModule' has no attribute 'FoamSolver'"
     ]
    }
   ],
   "source": [
    "solver = fvm.FoamSolver([\"pimpleStepperFoam\",\"-case\", \"{}\".format(OF_case_dir)])"
   ]
  },
  {
   "cell_type": "markdown",
   "metadata": {},
   "source": [
    "## 1. Let us now try retrieving basic information from OpenFOAM:"
   ]
  },
  {
   "cell_type": "code",
   "execution_count": null,
   "metadata": {},
   "outputs": [],
   "source": [
    "# Set print options for formatting\n",
    "numpy.set_printoptions(precision=4, suppress=False, threshold=8)\n",
    "\n",
    "# ========== Get information  ====================== #\n",
    "\n",
    "currentTime = solver.get_run_time_value()\n",
    "\n",
    "timeStepSize = solver.get_time_step()\n",
    "\n",
    "nCells = solver.get_number_of_cells()\n",
    "\n",
    "nBoundaryFaces = solver.get_number_of_boundary_faces(patchName=\"numericalBoundary\")\n",
    "\n",
    "#nBoundaryCells = solver.get_number_of_boundary_cells(patchName=\"numericalBoundary\")\n",
    "\n",
    "# =========\n",
    "\n",
    "cellVolumes = solver.get_cell_volumes()\n",
    "\n",
    "cellCenters = solver.get_cell_center_coordinates()\n",
    "\n",
    "bondFaceCenterCoordinates = solver.get_boundary_face_center_coordinates( patchName=\"numericalBoundary\")\n",
    "\n",
    "boundaryFaceAreas = solver.get_boundary_face_areas(patchName=\"numericalBoundary\")\n",
    "\n",
    "bondFaceNormals = solver.get_boundary_face_normals(patchName=\"numericalBoundary\")\n",
    "\n",
    "bondCellCenterCoordinates = solver.get_boundary_cell_center_coordinates(patchName=\"numericalBoundary\")\n",
    "\n",
    "\n",
    "# ========== Print the information ====================== #\n",
    "\n",
    "txt = '>>> Current time: {0:2e} s\\n'.format(currentTime)\n",
    "print(txt)\n",
    "\n",
    "txt = '>>> Time-step size: {0:2e} s\\n'.format(timeStepSize)\n",
    "print(txt)\n",
    "\n",
    "txt = '>>> Number of cells: {0:2d}\\n'.format(nCells)\n",
    "print(txt)\n",
    "\n",
    "txt = '>>> Cell volumes:'\n",
    "print(txt)\n",
    "print(numpy.shape(cellVolumes))\n",
    "print(cellVolumes)\n",
    "\n",
    "\n",
    "txt = '\\n>>> Cell centers:'\n",
    "print(txt)\n",
    "print(numpy.shape(cellCenters))\n",
    "print(cellCenters)\n",
    "\n",
    "\n",
    "txt = '\\n>>> Number of boundary faces: {0:0d}\\n'.format(nBoundaryFaces)\n",
    "print(txt)\n",
    "\n",
    "\n",
    "txt = '>>> Boundary face centers:'\n",
    "print(txt)\n",
    "print(numpy.shape(bondFaceCenterCoordinates))\n",
    "print(bondFaceCenterCoordinates)\n",
    "\n",
    "\n",
    "txt = '\\n>>> Boundary face areas:'\n",
    "print(txt)\n",
    "print(numpy.shape(boundaryFaceAreas))\n",
    "print(boundaryFaceAreas)\n",
    "\n",
    "\n",
    "txt = '\\n>>> Boundary face normals:'\n",
    "print(txt)\n",
    "print(numpy.shape(bondFaceNormals))\n",
    "print(bondFaceNormals)\n",
    "\n",
    "\n",
    "txt = '\\n>>> Boundary cell centers:'\n",
    "print(txt)\n",
    "print(numpy.shape(bondCellCenterCoordinates))\n",
    "print(bondCellCenterCoordinates)"
   ]
  },
  {
   "cell_type": "markdown",
   "metadata": {},
   "source": [
    "## 2. Get OpenFOAM field data"
   ]
  },
  {
   "cell_type": "code",
   "execution_count": null,
   "metadata": {},
   "outputs": [],
   "source": [
    "# Get the three components of the velocity field:\n",
    "U = solver.get_velocity_field()\n",
    "u, v, w = U[0::3], U[1::3], U[2::3]\n",
    "\n",
    "print(\"\\nVelocity Field Components:\")\n",
    "print(f\"u: {u}\")\n",
    "print(f\"v: {v}\")\n",
    "print(f\"w: {w}\")\n",
    "\n",
    "# Get values from OpenFOAM\n",
    "P = solver.get_pressure_field()\n",
    "print(\"\\nPressure Field:\")\n",
    "print(f\"P: {P}\")\n",
    "\n",
    "# Get values from OpenFOAM\n",
    "W = solver.get_vorticity_field()\n",
    "wx, wy, wz = W[0::3], W[1::3], W[2::3]\n",
    "\n",
    "print(\"\\nVorticity Components:\")\n",
    "print(f\"wx: {wx}\")\n",
    "print(f\"wy: {wy}\")\n",
    "print(f\"wz: {wz}\")\n",
    "\n",
    "# Get the 9 components of the velocity-gradient tensor:\n",
    "dUdX = solver.get_velocity_gradient()\n",
    "dudx, dudy, dudz = dUdX[0::3], dUdX[1::3], dUdX[2::3]\n",
    "dvdx, dvdy, dvdz = dUdX[3::3], dUdX[4::3], dUdX[5::3]\n",
    "dwdx, dwdy, dwdz = dUdX[6::3], dUdX[7::3], dUdX[8::3]\n",
    "\n",
    "print(\"\\nVelocity Gradient Tensor Components:\")\n",
    "print(f\"dudx: {dudx}, dudy: {dudy}, dudz: {dudz}\")\n",
    "print(f\"dvdx: {dvdx}, dvdy: {dvdy}, dvdz: {dvdz}\")\n",
    "print(f\"dwdx: {dwdx}, dwdy: {dwdy}, dwdz: {dwdz}\")\n",
    "\n",
    "# Get the 3 components of the pressure-gradient tensor:\n",
    "dPdX = solver.get_pressure_gradient_field()\n",
    "dPdx, dPdy, dPdz = dPdX[0::3], dPdX[1::3], dPdX[2::3]\n",
    "\n",
    "print(\"\\nPressure Gradient Components:\")\n",
    "print(f\"dPdx: {dPdx}\")\n",
    "print(f\"dPdy: {dPdy}\")\n",
    "print(f\"dPdz: {dPdz}\")\n"
   ]
  },
  {
   "cell_type": "markdown",
   "metadata": {},
   "source": [
    "## 3. Get boundary values"
   ]
  },
  {
   "cell_type": "code",
   "execution_count": null,
   "metadata": {},
   "outputs": [],
   "source": [
    "# Get boundary velocity field:\n",
    "Ub = solver.get_velocity_boundary_field()\n",
    "ub, vb, wb = Ub[0::3], Ub[1::3], Ub[2::3]\n",
    "\n",
    "print(\"\\nBoundary Velocity Field Components:\")\n",
    "print(f\"ub: {ub}\")\n",
    "print(f\"vb: {vb}\")\n",
    "print(f\"wb: {wb}\")\n",
    "\n",
    "# Get the pressure field at the boundary:\n",
    "Pb = solver.get_pressure_boundary_field()\n",
    "print(\"\\nBoundary Pressure Field:\")\n",
    "print(f\"Pb: {Pb}\")\n",
    "\n",
    "# Get the vorticity field at the boundary:\n",
    "Wb = solver.get_vorticity_boundary_field()\n",
    "wx, wy, wz = Wb[0::3], Wb[1::3], Wb[2::3]\n",
    "\n",
    "print(\"\\nBoundary Vorticity Components:\")\n",
    "print(f\"wx: {wx}\")\n",
    "print(f\"wy: {wy}\")\n",
    "print(f\"wz: {wz}\")\n",
    "\n",
    "# Get the 9 components of the velocity-gradient tensor at the boundary:\n",
    "dUdXb = solver.get_velocity_gradient_boundary_field()\n",
    "dudxb, dudyb, dudzb = dUdXb[0::3], dUdXb[1::3], dUdXb[2::3]\n",
    "dvdxb, dvdyb, dvdzb = dUdXb[3::3], dUdXb[4::3], dUdXb[5::3]\n",
    "dwdxb, dwdyb, dwdzb = dUdXb[6::3], dUdXb[7::3], dUdXb[8::3]\n",
    "\n",
    "print(\"\\nBoundary Velocity Gradient Tensor Components:\")\n",
    "print(f\"dudxb: {dudxb}, dudyb: {dudyb}, dudzb: {dudzb}\")\n",
    "print(f\"dvdxb: {dvdxb}, dvdyb: {dvdyb}, dvdzb: {dvdzb}\")\n",
    "print(f\"dwdxb: {dwdxb}, dwdyb: {dwdyb}, dwdzb: {dwdzb}\")\n",
    "\n",
    "# Get the 3 components of the pressure-gradient tensor at the boundary:\n",
    "dPdXb = solver.get_pressure_gradient_boundary_field()\n",
    "dPdxb, dPdyb, dPdzb = dPdXb[0::3], dPdXb[1::3], dPdXb[2::3]\n",
    "\n",
    "print(\"\\nBoundary Pressure Gradient Components:\")\n",
    "print(f\"dPdxb: {dPdxb}\")\n",
    "print(f\"dPdyb: {dPdyb}\")\n",
    "print(f\"dPdzb: {dPdzb}\")\n"
   ]
  },
  {
   "cell_type": "code",
   "execution_count": null,
   "metadata": {},
   "outputs": [],
   "source": []
  }
 ],
 "metadata": {
  "kernelspec": {
   "display_name": "openONDA",
   "language": "python",
   "name": "python3"
  },
  "language_info": {
   "codemirror_mode": {
    "name": "ipython",
    "version": 3
   },
   "file_extension": ".py",
   "mimetype": "text/x-python",
   "name": "python",
   "nbconvert_exporter": "python",
   "pygments_lexer": "ipython3",
   "version": "3.9.13"
  }
 },
 "nbformat": 4,
 "nbformat_minor": 4
}
